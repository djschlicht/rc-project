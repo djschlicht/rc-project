{
 "cells": [
  {
   "cell_type": "code",
   "execution_count": 1,
   "id": "12fedf7e",
   "metadata": {},
   "outputs": [],
   "source": [
    "import pandas as pd\n",
    "import numpy as np\n",
    "import warnings; warnings.simplefilter('ignore')\n",
    "from google.cloud import bigquery"
   ]
  },
  {
   "cell_type": "code",
   "execution_count": 27,
   "id": "4caeb693",
   "metadata": {},
   "outputs": [],
   "source": [
    "#connect to bigquery\n",
    "client = bigquery.Client()\n",
    "\n",
    "#run query and return dataframe\n",
    "def run_query(query):\n",
    "    query_job = client.query(query)\n",
    "    query_result = query_job.result()\n",
    "    return query_result.to_dataframe().fillna(np.nan)\n",
    "\n",
    "pd.options.display.float_format = '{:.3f}'.format"
   ]
  },
  {
   "cell_type": "code",
   "execution_count": 31,
   "id": "5b759e4d",
   "metadata": {},
   "outputs": [],
   "source": [
    "sql_query = f\"\"\"\n",
    "WITH proc AS -- get medicare covid vax procedure claims\n",
    "    (SELECT claim_number, patient_key, procedure, procedure_type\n",
    "    FROM `w2ohcdata.drg.submit_procedure`\n",
    "    WHERE procedure IN('91300', '0001A', '0002A', '91301', '0011A', '0012A', '91302', '0021A', '0022A', \n",
    "    '91303', '0031A', '91304', '0041A', '0042A', 'M0201')\n",
    "    AND par_dt > '2020-10-01'),\n",
    "\n",
    "    pt AS -- get patient info\n",
    "    (SELECT claim_number as claim_num_pt, patient_key as pt_key, member_adr_zip, patient_birth_year\n",
    "    FROM `w2ohcdata.drg.submit_patient`\n",
    "    WHERE par_dt > '2020-10-01'),\n",
    "\n",
    "    proc_pt AS -- join procedure + patient on claim_number\n",
    "    (SELECT *\n",
    "    FROM proc\n",
    "    JOIN pt ON proc.claim_number = pt.claim_num_pt),\n",
    "    \n",
    "    payer AS -- get payer info\n",
    "    (SELECT claim_number as claim_num_payer, type_coverage, min_service_from_header\n",
    "    FROM `w2ohcdata.drg.submit_payer`\n",
    "    WHERE par_dt > '2020-10-01'),\n",
    "    \n",
    "    proc_pt_payer AS -- join procedure_patient + payer on claim_num\n",
    "    (SELECT * \n",
    "    FROM proc_pt\n",
    "    JOIN payer ON proc_pt.claim_number = payer.claim_num_payer),\n",
    "    \n",
    "    coverage AS -- insurance type reference\n",
    "    (SELECT *\n",
    "    FROM `w2ohcwork.rwd_references.type_coverage_payment`)\n",
    "\n",
    " -- join everything with insurance type\n",
    "SELECT claim_number, patient_key, procedure, procedure_type, member_adr_zip,\n",
    "    patient_birth_year, type_coverage, description, insurance_group, min_service_from_header \n",
    "FROM proc_pt_payer\n",
    "JOIN coverage ON proc_pt_payer.type_coverage = coverage.type_coverage_payment\n",
    "\"\"\""
   ]
  },
  {
   "cell_type": "code",
   "execution_count": 33,
   "id": "5581ef38",
   "metadata": {},
   "outputs": [
    {
     "data": {
      "text/html": [
       "<div>\n",
       "<style scoped>\n",
       "    .dataframe tbody tr th:only-of-type {\n",
       "        vertical-align: middle;\n",
       "    }\n",
       "\n",
       "    .dataframe tbody tr th {\n",
       "        vertical-align: top;\n",
       "    }\n",
       "\n",
       "    .dataframe thead th {\n",
       "        text-align: right;\n",
       "    }\n",
       "</style>\n",
       "<table border=\"1\" class=\"dataframe\">\n",
       "  <thead>\n",
       "    <tr style=\"text-align: right;\">\n",
       "      <th></th>\n",
       "      <th>claim_number</th>\n",
       "      <th>patient_key</th>\n",
       "      <th>procedure</th>\n",
       "      <th>procedure_type</th>\n",
       "      <th>member_adr_zip</th>\n",
       "      <th>patient_birth_year</th>\n",
       "      <th>type_coverage</th>\n",
       "      <th>description</th>\n",
       "      <th>insurance_group</th>\n",
       "      <th>min_service_from_header</th>\n",
       "    </tr>\n",
       "  </thead>\n",
       "  <tbody>\n",
       "    <tr>\n",
       "      <th>0</th>\n",
       "      <td>vul_c25424b9-f286-48fd-a70c-b81eae687712</td>\n",
       "      <td>162147178771393196</td>\n",
       "      <td>0011A</td>\n",
       "      <td>CPT</td>\n",
       "      <td>322</td>\n",
       "      <td>1945.000</td>\n",
       "      <td>CH</td>\n",
       "      <td>Champus</td>\n",
       "      <td>VA / Other</td>\n",
       "      <td>2021-01-11</td>\n",
       "    </tr>\n",
       "    <tr>\n",
       "      <th>1</th>\n",
       "      <td>344659000000029012</td>\n",
       "      <td>145634713145531454</td>\n",
       "      <td>0001A</td>\n",
       "      <td>CPT</td>\n",
       "      <td>554</td>\n",
       "      <td>2005.000</td>\n",
       "      <td>M</td>\n",
       "      <td>Family or Friends</td>\n",
       "      <td>VA / Other</td>\n",
       "      <td>2021-06-23</td>\n",
       "    </tr>\n",
       "    <tr>\n",
       "      <th>2</th>\n",
       "      <td>alb_2128342332</td>\n",
       "      <td>149617144261273516</td>\n",
       "      <td>0012A</td>\n",
       "      <td>CPT</td>\n",
       "      <td>730</td>\n",
       "      <td>1971.000</td>\n",
       "      <td>12</td>\n",
       "      <td>Preferred Provider Organization (PPO)</td>\n",
       "      <td>Commercial</td>\n",
       "      <td>2021-04-01</td>\n",
       "    </tr>\n",
       "    <tr>\n",
       "      <th>3</th>\n",
       "      <td>342315000000572173</td>\n",
       "      <td>144642953657192662</td>\n",
       "      <td>0002A</td>\n",
       "      <td>CPT</td>\n",
       "      <td>019</td>\n",
       "      <td>1952.000</td>\n",
       "      <td>A</td>\n",
       "      <td>Self-pay</td>\n",
       "      <td>VA / Other</td>\n",
       "      <td>2021-04-26</td>\n",
       "    </tr>\n",
       "    <tr>\n",
       "      <th>4</th>\n",
       "      <td>341600000000215506</td>\n",
       "      <td>159600709841481823</td>\n",
       "      <td>0001A</td>\n",
       "      <td>CPT</td>\n",
       "      <td>019</td>\n",
       "      <td>1980.000</td>\n",
       "      <td>O</td>\n",
       "      <td>Other</td>\n",
       "      <td>VA / Other</td>\n",
       "      <td>2021-04-10</td>\n",
       "    </tr>\n",
       "  </tbody>\n",
       "</table>\n",
       "</div>"
      ],
      "text/plain": [
       "                               claim_number         patient_key procedure  \\\n",
       "0  vul_c25424b9-f286-48fd-a70c-b81eae687712  162147178771393196     0011A   \n",
       "1                        344659000000029012  145634713145531454     0001A   \n",
       "2                            alb_2128342332  149617144261273516     0012A   \n",
       "3                        342315000000572173  144642953657192662     0002A   \n",
       "4                        341600000000215506  159600709841481823     0001A   \n",
       "\n",
       "  procedure_type member_adr_zip  patient_birth_year type_coverage  \\\n",
       "0            CPT            322            1945.000            CH   \n",
       "1            CPT            554            2005.000             M   \n",
       "2            CPT            730            1971.000            12   \n",
       "3            CPT            019            1952.000             A   \n",
       "4            CPT            019            1980.000             O   \n",
       "\n",
       "                             description insurance_group  \\\n",
       "0                                Champus      VA / Other   \n",
       "1                      Family or Friends      VA / Other   \n",
       "2  Preferred Provider Organization (PPO)      Commercial   \n",
       "3                               Self-pay      VA / Other   \n",
       "4                                  Other      VA / Other   \n",
       "\n",
       "  min_service_from_header  \n",
       "0              2021-01-11  \n",
       "1              2021-06-23  \n",
       "2              2021-04-01  \n",
       "3              2021-04-26  \n",
       "4              2021-04-10  "
      ]
     },
     "execution_count": 33,
     "metadata": {},
     "output_type": "execute_result"
    }
   ],
   "source": [
    "df = run_query(sql_query)\n",
    "df.head()"
   ]
  },
  {
   "cell_type": "code",
   "execution_count": null,
   "id": "d82bf283",
   "metadata": {},
   "outputs": [],
   "source": [
    "cpt_info = {\n",
    "    '91300': 'Pfizer-Biontech Covid-19 Vaccine',\n",
    "    '0001A': 'Pfizer-Biontech Covid-19 Vaccine Administration – First Dose',\n",
    "    '0002A': 'Pfizer-Biontech Covid-19 Vaccine Administration – Second Dose',\n",
    "    '91301': 'Moderna Covid-19 Vaccine',\n",
    "    '0011A': 'Moderna Covid-19 Vaccine Administration – First Dose',\n",
    "    '0012A': 'Moderna Covid-19 Vaccine Administration – Second Dose',\n",
    "    '91302': 'AstraZeneca Covid-19 Vaccine',\n",
    "    '0021A': 'AstraZeneca Covid-19 Vaccine Administration – First Dose',\n",
    "    '0022A': 'AstraZeneca Covid-19 Vaccine Administration – Second Dose',\n",
    "    '91303': 'Janssen (Johnson & Johnson) Covid-19 Vaccine',\n",
    "    '0031A': 'Janssen (Johnson & Johnson) Covid-19 Vaccine Administration',\n",
    "    '91304': 'Novavax Covid-19 Vaccine',\n",
    "    '0041A': 'Novavax Covid-19 Vaccine Administration – First Dose',\n",
    "    '0042A': 'Novavax Covid-19 Vaccine Administration – Second Dose',\n",
    "    'M0201': 'Covid-19 vaccine administration inside a patient\\'s home'\n",
    "}\n",
    "df['procedure_description'] = df['procedure'].map(cpt_info)"
   ]
  },
  {
   "cell_type": "code",
   "execution_count": 36,
   "id": "e4ce4c6e",
   "metadata": {},
   "outputs": [
    {
     "data": {
      "text/html": [
       "<div>\n",
       "<style scoped>\n",
       "    .dataframe tbody tr th:only-of-type {\n",
       "        vertical-align: middle;\n",
       "    }\n",
       "\n",
       "    .dataframe tbody tr th {\n",
       "        vertical-align: top;\n",
       "    }\n",
       "\n",
       "    .dataframe thead th {\n",
       "        text-align: right;\n",
       "    }\n",
       "</style>\n",
       "<table border=\"1\" class=\"dataframe\">\n",
       "  <thead>\n",
       "    <tr style=\"text-align: right;\">\n",
       "      <th></th>\n",
       "      <th>claim_number</th>\n",
       "      <th>patient_key</th>\n",
       "      <th>procedure</th>\n",
       "      <th>procedure_description</th>\n",
       "      <th>procedure_type</th>\n",
       "      <th>member_adr_zip</th>\n",
       "      <th>patient_birth_year</th>\n",
       "      <th>type_coverage</th>\n",
       "      <th>description</th>\n",
       "      <th>insurance_group</th>\n",
       "      <th>min_service_from_header</th>\n",
       "    </tr>\n",
       "  </thead>\n",
       "  <tbody>\n",
       "    <tr>\n",
       "      <th>0</th>\n",
       "      <td>vul_c25424b9-f286-48fd-a70c-b81eae687712</td>\n",
       "      <td>162147178771393196</td>\n",
       "      <td>0011A</td>\n",
       "      <td>Moderna Covid-19 Vaccine Administration – Firs...</td>\n",
       "      <td>CPT</td>\n",
       "      <td>322</td>\n",
       "      <td>1945.000</td>\n",
       "      <td>CH</td>\n",
       "      <td>Champus</td>\n",
       "      <td>VA / Other</td>\n",
       "      <td>2021-01-11</td>\n",
       "    </tr>\n",
       "    <tr>\n",
       "      <th>1</th>\n",
       "      <td>344659000000029012</td>\n",
       "      <td>145634713145531454</td>\n",
       "      <td>0001A</td>\n",
       "      <td>Pfizer-Biontech Covid-19 Vaccine Administratio...</td>\n",
       "      <td>CPT</td>\n",
       "      <td>554</td>\n",
       "      <td>2005.000</td>\n",
       "      <td>M</td>\n",
       "      <td>Family or Friends</td>\n",
       "      <td>VA / Other</td>\n",
       "      <td>2021-06-23</td>\n",
       "    </tr>\n",
       "    <tr>\n",
       "      <th>2</th>\n",
       "      <td>alb_2128342332</td>\n",
       "      <td>149617144261273516</td>\n",
       "      <td>0012A</td>\n",
       "      <td>Moderna Covid-19 Vaccine Administration – Seco...</td>\n",
       "      <td>CPT</td>\n",
       "      <td>730</td>\n",
       "      <td>1971.000</td>\n",
       "      <td>12</td>\n",
       "      <td>Preferred Provider Organization (PPO)</td>\n",
       "      <td>Commercial</td>\n",
       "      <td>2021-04-01</td>\n",
       "    </tr>\n",
       "    <tr>\n",
       "      <th>3</th>\n",
       "      <td>342315000000572173</td>\n",
       "      <td>144642953657192662</td>\n",
       "      <td>0002A</td>\n",
       "      <td>Pfizer-Biontech Covid-19 Vaccine Administratio...</td>\n",
       "      <td>CPT</td>\n",
       "      <td>019</td>\n",
       "      <td>1952.000</td>\n",
       "      <td>A</td>\n",
       "      <td>Self-pay</td>\n",
       "      <td>VA / Other</td>\n",
       "      <td>2021-04-26</td>\n",
       "    </tr>\n",
       "    <tr>\n",
       "      <th>4</th>\n",
       "      <td>341600000000215506</td>\n",
       "      <td>159600709841481823</td>\n",
       "      <td>0001A</td>\n",
       "      <td>Pfizer-Biontech Covid-19 Vaccine Administratio...</td>\n",
       "      <td>CPT</td>\n",
       "      <td>019</td>\n",
       "      <td>1980.000</td>\n",
       "      <td>O</td>\n",
       "      <td>Other</td>\n",
       "      <td>VA / Other</td>\n",
       "      <td>2021-04-10</td>\n",
       "    </tr>\n",
       "  </tbody>\n",
       "</table>\n",
       "</div>"
      ],
      "text/plain": [
       "                               claim_number         patient_key procedure  \\\n",
       "0  vul_c25424b9-f286-48fd-a70c-b81eae687712  162147178771393196     0011A   \n",
       "1                        344659000000029012  145634713145531454     0001A   \n",
       "2                            alb_2128342332  149617144261273516     0012A   \n",
       "3                        342315000000572173  144642953657192662     0002A   \n",
       "4                        341600000000215506  159600709841481823     0001A   \n",
       "\n",
       "                               procedure_description procedure_type  \\\n",
       "0  Moderna Covid-19 Vaccine Administration – Firs...            CPT   \n",
       "1  Pfizer-Biontech Covid-19 Vaccine Administratio...            CPT   \n",
       "2  Moderna Covid-19 Vaccine Administration – Seco...            CPT   \n",
       "3  Pfizer-Biontech Covid-19 Vaccine Administratio...            CPT   \n",
       "4  Pfizer-Biontech Covid-19 Vaccine Administratio...            CPT   \n",
       "\n",
       "  member_adr_zip  patient_birth_year type_coverage  \\\n",
       "0            322            1945.000            CH   \n",
       "1            554            2005.000             M   \n",
       "2            730            1971.000            12   \n",
       "3            019            1952.000             A   \n",
       "4            019            1980.000             O   \n",
       "\n",
       "                             description insurance_group  \\\n",
       "0                                Champus      VA / Other   \n",
       "1                      Family or Friends      VA / Other   \n",
       "2  Preferred Provider Organization (PPO)      Commercial   \n",
       "3                               Self-pay      VA / Other   \n",
       "4                                  Other      VA / Other   \n",
       "\n",
       "  min_service_from_header  \n",
       "0              2021-01-11  \n",
       "1              2021-06-23  \n",
       "2              2021-04-01  \n",
       "3              2021-04-26  \n",
       "4              2021-04-10  "
      ]
     },
     "execution_count": 36,
     "metadata": {},
     "output_type": "execute_result"
    }
   ],
   "source": [
    "df = df[['claim_number', 'patient_key', 'procedure', 'procedure_description', 'procedure_type', 'member_adr_zip',\n",
    "         'patient_birth_year', 'type_coverage', 'description', 'insurance_group', 'min_service_from_header']]\n",
    "df.head()"
   ]
  },
  {
   "cell_type": "code",
   "execution_count": 37,
   "id": "147bae9c",
   "metadata": {},
   "outputs": [
    {
     "data": {
      "text/plain": [
       "16441787"
      ]
     },
     "execution_count": 37,
     "metadata": {},
     "output_type": "execute_result"
    }
   ],
   "source": [
    "len(df)"
   ]
  },
  {
   "cell_type": "code",
   "execution_count": 45,
   "id": "4477feb5",
   "metadata": {},
   "outputs": [
    {
     "data": {
      "text/plain": [
       "6357981"
      ]
     },
     "execution_count": 45,
     "metadata": {},
     "output_type": "execute_result"
    }
   ],
   "source": [
    "len(df.patient_key.unique()) # this seems kinda low"
   ]
  },
  {
   "cell_type": "code",
   "execution_count": 38,
   "id": "94ee1ae2",
   "metadata": {},
   "outputs": [
    {
     "data": {
      "text/plain": [
       "claim_number                object\n",
       "patient_key                  int64\n",
       "procedure                   object\n",
       "procedure_description       object\n",
       "procedure_type              object\n",
       "member_adr_zip              object\n",
       "patient_birth_year         float64\n",
       "type_coverage               object\n",
       "description                 object\n",
       "insurance_group             object\n",
       "min_service_from_header     object\n",
       "dtype: object"
      ]
     },
     "execution_count": 38,
     "metadata": {},
     "output_type": "execute_result"
    }
   ],
   "source": [
    "df.dtypes"
   ]
  },
  {
   "cell_type": "code",
   "execution_count": 40,
   "id": "1ab77410",
   "metadata": {},
   "outputs": [
    {
     "data": {
      "text/plain": [
       "claim_number               False\n",
       "patient_key                False\n",
       "procedure                  False\n",
       "procedure_description      False\n",
       "procedure_type             False\n",
       "member_adr_zip              True\n",
       "patient_birth_year          True\n",
       "type_coverage              False\n",
       "description                False\n",
       "insurance_group            False\n",
       "min_service_from_header    False\n",
       "dtype: bool"
      ]
     },
     "execution_count": 40,
     "metadata": {},
     "output_type": "execute_result"
    }
   ],
   "source": [
    "df.isna().any()"
   ]
  },
  {
   "cell_type": "code",
   "execution_count": 41,
   "id": "4fe1b9f1",
   "metadata": {},
   "outputs": [
    {
     "data": {
      "text/plain": [
       "Pfizer-Biontech Covid-19 Vaccine Administration – First Dose     3875540\n",
       "Pfizer-Biontech Covid-19 Vaccine Administration – Second Dose    3445686\n",
       "Moderna Covid-19 Vaccine Administration – First Dose             3070841\n",
       "Moderna Covid-19 Vaccine Administration – Second Dose            2579565\n",
       "Pfizer-Biontech Covid-19 Vaccine                                 1446650\n",
       "Moderna Covid-19 Vaccine                                         1324122\n",
       "Janssen (Johnson & Johnson) Covid-19 Vaccine Administration       507654\n",
       "Janssen (Johnson & Johnson) Covid-19 Vaccine                      191554\n",
       "AstraZeneca Covid-19 Vaccine Administration – First Dose              81\n",
       "AstraZeneca Covid-19 Vaccine                                          55\n",
       "Covid-19 vaccine administration inside a patient's home               33\n",
       "Novavax Covid-19 Vaccine Administration – First Dose                   4\n",
       "AstraZeneca Covid-19 Vaccine Administration – Second Dose              2\n",
       "Name: procedure_description, dtype: int64"
      ]
     },
     "execution_count": 41,
     "metadata": {},
     "output_type": "execute_result"
    }
   ],
   "source": [
    "df.procedure_description.value_counts()"
   ]
  },
  {
   "cell_type": "code",
   "execution_count": 42,
   "id": "9b45bcd2",
   "metadata": {},
   "outputs": [
    {
     "data": {
      "text/plain": [
       "Commercial    12414636\n",
       "Medicare       2830549\n",
       "Medicaid        897491\n",
       "VA / Other      299111\n",
       "Name: insurance_group, dtype: int64"
      ]
     },
     "execution_count": 42,
     "metadata": {},
     "output_type": "execute_result"
    }
   ],
   "source": [
    "df.insurance_group.value_counts()"
   ]
  },
  {
   "cell_type": "code",
   "execution_count": 43,
   "id": "e78dccbd",
   "metadata": {},
   "outputs": [
    {
     "data": {
      "text/plain": [
       "count                16441787\n",
       "unique                    219\n",
       "top       2021-04-08 00:00:00\n",
       "freq                   221496\n",
       "first     2020-11-04 00:00:00\n",
       "last      2021-07-01 00:00:00\n",
       "Name: min_service_from_header, dtype: object"
      ]
     },
     "execution_count": 43,
     "metadata": {},
     "output_type": "execute_result"
    }
   ],
   "source": [
    "df.min_service_from_header = pd.to_datetime(df.min_service_from_header)\n",
    "df.min_service_from_header.describe()"
   ]
  },
  {
   "cell_type": "code",
   "execution_count": 44,
   "id": "b99f35ca",
   "metadata": {},
   "outputs": [
    {
     "data": {
      "text/plain": [
       "count   16203395.000\n",
       "mean        1963.631\n",
       "std           20.032\n",
       "min         1931.000\n",
       "25%         1948.000\n",
       "50%         1959.000\n",
       "75%         1979.000\n",
       "max         2021.000\n",
       "Name: patient_birth_year, dtype: float64"
      ]
     },
     "execution_count": 44,
     "metadata": {},
     "output_type": "execute_result"
    }
   ],
   "source": [
    "#df.patient_birth_year = df.patient_birth_year.astype(np.int64)\n",
    "df.patient_birth_year.describe()"
   ]
  }
 ],
 "metadata": {
  "kernelspec": {
   "display_name": "Python 3",
   "language": "python",
   "name": "python3"
  },
  "language_info": {
   "codemirror_mode": {
    "name": "ipython",
    "version": 3
   },
   "file_extension": ".py",
   "mimetype": "text/x-python",
   "name": "python",
   "nbconvert_exporter": "python",
   "pygments_lexer": "ipython3",
   "version": "3.8.8"
  }
 },
 "nbformat": 4,
 "nbformat_minor": 5
}
