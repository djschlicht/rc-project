{
 "cells": [
  {
   "cell_type": "code",
   "execution_count": 3,
   "id": "3ea128ab",
   "metadata": {},
   "outputs": [],
   "source": [
    "import pandas as pd"
   ]
  },
  {
   "cell_type": "code",
   "execution_count": 22,
   "id": "6b8f32b0",
   "metadata": {},
   "outputs": [
    {
     "data": {
      "text/html": [
       "<div>\n",
       "<style scoped>\n",
       "    .dataframe tbody tr th:only-of-type {\n",
       "        vertical-align: middle;\n",
       "    }\n",
       "\n",
       "    .dataframe tbody tr th {\n",
       "        vertical-align: top;\n",
       "    }\n",
       "\n",
       "    .dataframe thead th {\n",
       "        text-align: right;\n",
       "    }\n",
       "</style>\n",
       "<table border=\"1\" class=\"dataframe\">\n",
       "  <thead>\n",
       "    <tr style=\"text-align: right;\">\n",
       "      <th></th>\n",
       "      <th>Name</th>\n",
       "      <th>Zip</th>\n",
       "    </tr>\n",
       "  </thead>\n",
       "  <tbody>\n",
       "    <tr>\n",
       "      <th>0</th>\n",
       "      <td>Alabama A &amp; M University</td>\n",
       "      <td>35762</td>\n",
       "    </tr>\n",
       "    <tr>\n",
       "      <th>1</th>\n",
       "      <td>Alabama State University</td>\n",
       "      <td>36101</td>\n",
       "    </tr>\n",
       "    <tr>\n",
       "      <th>2</th>\n",
       "      <td>Albany State University</td>\n",
       "      <td>31705</td>\n",
       "    </tr>\n",
       "    <tr>\n",
       "      <th>3</th>\n",
       "      <td>Alcorn State University</td>\n",
       "      <td>39096</td>\n",
       "    </tr>\n",
       "    <tr>\n",
       "      <th>4</th>\n",
       "      <td>Allen University</td>\n",
       "      <td>29204</td>\n",
       "    </tr>\n",
       "  </tbody>\n",
       "</table>\n",
       "</div>"
      ],
      "text/plain": [
       "                       Name    Zip\n",
       "0  Alabama A & M University  35762\n",
       "1  Alabama State University  36101\n",
       "2   Albany State University  31705\n",
       "3   Alcorn State University  39096\n",
       "4          Allen University  29204"
      ]
     },
     "execution_count": 22,
     "metadata": {},
     "output_type": "execute_result"
    }
   ],
   "source": [
    "hbcu = pd.read_csv(r'data\\hbcus.csv')\n",
    "demo = pd.read_csv(r'data\\demo_hesitancy_by_zip_condensed.csv')\n",
    "demo = demo[['zip_code', 'state_name', 'county_name']]\n",
    "hbcu = hbcu[['Name', 'Zip']]\n",
    "hbcu.head()"
   ]
  },
  {
   "cell_type": "code",
   "execution_count": 23,
   "id": "42f98da0",
   "metadata": {},
   "outputs": [],
   "source": [
    "hbcu=hbcu.merge(demo, how='left', left_on='Zip', right_on='zip_code')"
   ]
  },
  {
   "cell_type": "code",
   "execution_count": 24,
   "id": "f8614bb9",
   "metadata": {},
   "outputs": [],
   "source": [
    "hbcu.to_csv(r'data\\hbcus.csv', index=False)"
   ]
  }
 ],
 "metadata": {
  "kernelspec": {
   "display_name": "Python 3",
   "language": "python",
   "name": "python3"
  },
  "language_info": {
   "codemirror_mode": {
    "name": "ipython",
    "version": 3
   },
   "file_extension": ".py",
   "mimetype": "text/x-python",
   "name": "python",
   "nbconvert_exporter": "python",
   "pygments_lexer": "ipython3",
   "version": "3.8.8"
  }
 },
 "nbformat": 4,
 "nbformat_minor": 5
}
