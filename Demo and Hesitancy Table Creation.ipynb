{
 "cells": [
  {
   "cell_type": "markdown",
   "id": "8d305664",
   "metadata": {},
   "source": [
    "## imports and options"
   ]
  },
  {
   "cell_type": "code",
   "execution_count": 3,
   "id": "19e733ca",
   "metadata": {},
   "outputs": [],
   "source": [
    "import pandas as pd\n",
    "import numpy as np\n",
    "import matplotlib.pyplot as plt\n",
    "from google.cloud import bigquery\n",
    "import warnings"
   ]
  },
  {
   "cell_type": "code",
   "execution_count": 4,
   "id": "72bc012a",
   "metadata": {},
   "outputs": [],
   "source": [
    "# Ignores bigquery warnings about credentials type\n",
    "warnings.filterwarnings(\n",
    "    \"ignore\", \"Your application has authenticated using end user credentials\"\n",
    ")\n",
    "\n",
    "pd.options.display.max_rows = 100\n",
    "client = bigquery.Client()"
   ]
  },
  {
   "cell_type": "markdown",
   "id": "d0ed0ec0",
   "metadata": {},
   "source": [
    "## SQL queries"
   ]
  },
  {
   "cell_type": "markdown",
   "id": "1f2f443b",
   "metadata": {},
   "source": [
    "sql_query = f\"\"\"\n",
    "WITH race_data AS \n",
    "    (SELECT geo_id, total_pop, black_pop \n",
    "    FROM `bigquery-public-data.census_bureau_acs.zcta5_2017_5yr`),\n",
    "    age_data AS\n",
    "    (SELECT zcta5, total AS total_pop, total_10_to_14, total_15_to_19, total_20_to_24\n",
    "    total_25_to_29, total_30_to_34, total_40_to_44, total_45_to_49, total_50_to_54, total_55_to_59,\n",
    "    total_60_to_64, total_65_to_69, total_70_to_74, total_75_to_79, total_80_to_84, total_85_and_over\n",
    "    FROM `w2ohcwork.census.acs_2017_5yr_s0101_zcta5_population_age_sex`)\n",
    "SELECT age_data.*, race_data.black_pop\n",
    "FROM race_data \n",
    "JOIN age_data ON race_data.geo_id = age_data.zcta5\n",
    "\"\"\"\n",
    "res = client.query(sql_query)\n",
    "demo_df = res.to_dataframe()"
   ]
  },
  {
   "cell_type": "code",
   "execution_count": 6,
   "id": "a9703718",
   "metadata": {},
   "outputs": [
    {
     "data": {
      "text/html": [
       "<div>\n",
       "<style scoped>\n",
       "    .dataframe tbody tr th:only-of-type {\n",
       "        vertical-align: middle;\n",
       "    }\n",
       "\n",
       "    .dataframe tbody tr th {\n",
       "        vertical-align: top;\n",
       "    }\n",
       "\n",
       "    .dataframe thead th {\n",
       "        text-align: right;\n",
       "    }\n",
       "</style>\n",
       "<table border=\"1\" class=\"dataframe\">\n",
       "  <thead>\n",
       "    <tr style=\"text-align: right;\">\n",
       "      <th></th>\n",
       "      <th>fips</th>\n",
       "      <th>total_pop</th>\n",
       "      <th>black_pop</th>\n",
       "    </tr>\n",
       "  </thead>\n",
       "  <tbody>\n",
       "    <tr>\n",
       "      <th>0</th>\n",
       "      <td>35039</td>\n",
       "      <td>39307.0</td>\n",
       "      <td>164.0</td>\n",
       "    </tr>\n",
       "    <tr>\n",
       "      <th>1</th>\n",
       "      <td>72133</td>\n",
       "      <td>22066.0</td>\n",
       "      <td>0.0</td>\n",
       "    </tr>\n",
       "    <tr>\n",
       "      <th>2</th>\n",
       "      <td>72043</td>\n",
       "      <td>39265.0</td>\n",
       "      <td>8.0</td>\n",
       "    </tr>\n",
       "    <tr>\n",
       "      <th>3</th>\n",
       "      <td>72151</td>\n",
       "      <td>34149.0</td>\n",
       "      <td>0.0</td>\n",
       "    </tr>\n",
       "    <tr>\n",
       "      <th>4</th>\n",
       "      <td>72071</td>\n",
       "      <td>42420.0</td>\n",
       "      <td>98.0</td>\n",
       "    </tr>\n",
       "  </tbody>\n",
       "</table>\n",
       "</div>"
      ],
      "text/plain": [
       "    fips  total_pop  black_pop\n",
       "0  35039    39307.0      164.0\n",
       "1  72133    22066.0        0.0\n",
       "2  72043    39265.0        8.0\n",
       "3  72151    34149.0        0.0\n",
       "4  72071    42420.0       98.0"
      ]
     },
     "execution_count": 6,
     "metadata": {},
     "output_type": "execute_result"
    }
   ],
   "source": [
    "sql_query = f'''\n",
    "SELECT geo_id as fips, total_pop, black_pop\n",
    "FROM `bigquery-public-data.census_bureau_acs.county_2018_5yr`\n",
    "'''\n",
    "res = client.query(sql_query) \n",
    "demo_df = res.to_dataframe()\n",
    "demo_df.head()"
   ]
  },
  {
   "cell_type": "code",
   "execution_count": 15,
   "id": "6ba7e466",
   "metadata": {},
   "outputs": [],
   "source": [
    "demo_df.dtypes\n",
    "demo_df.fips = demo_df.fips.astype(np.int64)"
   ]
  },
  {
   "cell_type": "code",
   "execution_count": 9,
   "id": "57a484d0",
   "metadata": {},
   "outputs": [
    {
     "data": {
      "text/html": [
       "<div>\n",
       "<style scoped>\n",
       "    .dataframe tbody tr th:only-of-type {\n",
       "        vertical-align: middle;\n",
       "    }\n",
       "\n",
       "    .dataframe tbody tr th {\n",
       "        vertical-align: top;\n",
       "    }\n",
       "\n",
       "    .dataframe thead th {\n",
       "        text-align: right;\n",
       "    }\n",
       "</style>\n",
       "<table border=\"1\" class=\"dataframe\">\n",
       "  <thead>\n",
       "    <tr style=\"text-align: right;\">\n",
       "      <th></th>\n",
       "      <th>county</th>\n",
       "      <th>zip</th>\n",
       "      <th>res_ratio</th>\n",
       "      <th>bus_ratio</th>\n",
       "      <th>oth_ratio</th>\n",
       "      <th>tot_ratio</th>\n",
       "    </tr>\n",
       "  </thead>\n",
       "  <tbody>\n",
       "    <tr>\n",
       "      <th>0</th>\n",
       "      <td>72001</td>\n",
       "      <td>601</td>\n",
       "      <td>1.000000</td>\n",
       "      <td>1.000000</td>\n",
       "      <td>1.000000</td>\n",
       "      <td>1.000000</td>\n",
       "    </tr>\n",
       "    <tr>\n",
       "      <th>1</th>\n",
       "      <td>72093</td>\n",
       "      <td>606</td>\n",
       "      <td>1.000000</td>\n",
       "      <td>1.000000</td>\n",
       "      <td>1.000000</td>\n",
       "      <td>1.000000</td>\n",
       "    </tr>\n",
       "    <tr>\n",
       "      <th>2</th>\n",
       "      <td>72013</td>\n",
       "      <td>688</td>\n",
       "      <td>0.096351</td>\n",
       "      <td>0.037037</td>\n",
       "      <td>0.008299</td>\n",
       "      <td>0.090974</td>\n",
       "    </tr>\n",
       "    <tr>\n",
       "      <th>3</th>\n",
       "      <td>72013</td>\n",
       "      <td>616</td>\n",
       "      <td>0.090904</td>\n",
       "      <td>0.006119</td>\n",
       "      <td>0.014523</td>\n",
       "      <td>0.083784</td>\n",
       "    </tr>\n",
       "    <tr>\n",
       "      <th>4</th>\n",
       "      <td>72013</td>\n",
       "      <td>650</td>\n",
       "      <td>0.018933</td>\n",
       "      <td>0.001288</td>\n",
       "      <td>0.008299</td>\n",
       "      <td>0.017511</td>\n",
       "    </tr>\n",
       "  </tbody>\n",
       "</table>\n",
       "</div>"
      ],
      "text/plain": [
       "   county  zip  res_ratio  bus_ratio  oth_ratio  tot_ratio\n",
       "0   72001  601   1.000000   1.000000   1.000000   1.000000\n",
       "1   72093  606   1.000000   1.000000   1.000000   1.000000\n",
       "2   72013  688   0.096351   0.037037   0.008299   0.090974\n",
       "3   72013  616   0.090904   0.006119   0.014523   0.083784\n",
       "4   72013  650   0.018933   0.001288   0.008299   0.017511"
      ]
     },
     "execution_count": 9,
     "metadata": {},
     "output_type": "execute_result"
    }
   ],
   "source": [
    "fips_zip = pd.read_excel(r'data\\COUNTY_ZIP_032018.xlsx')\n",
    "fips_zip.head()"
   ]
  },
  {
   "cell_type": "code",
   "execution_count": 10,
   "id": "ddd279d1",
   "metadata": {},
   "outputs": [
    {
     "data": {
      "text/plain": [
       "county         int64\n",
       "zip            int64\n",
       "res_ratio    float64\n",
       "bus_ratio    float64\n",
       "oth_ratio    float64\n",
       "tot_ratio    float64\n",
       "dtype: object"
      ]
     },
     "execution_count": 10,
     "metadata": {},
     "output_type": "execute_result"
    }
   ],
   "source": [
    "fips_zip.dtypes"
   ]
  },
  {
   "cell_type": "code",
   "execution_count": 17,
   "id": "d2a5ecbd",
   "metadata": {},
   "outputs": [],
   "source": [
    "fips_zip = fips_zip[['county', 'zip']]\n",
    "demo_df = demo_df.merge(fips_zip, how='left', left_on='fips', right_on='county')"
   ]
  },
  {
   "cell_type": "code",
   "execution_count": null,
   "id": "9e88248c",
   "metadata": {},
   "outputs": [],
   "source": []
  },
  {
   "cell_type": "markdown",
   "id": "5f2432c9",
   "metadata": {},
   "source": [
    "## ZIP/ZCTA Crosswalk"
   ]
  },
  {
   "cell_type": "code",
   "execution_count": null,
   "id": "e815a8f7",
   "metadata": {},
   "outputs": [],
   "source": [
    "zip_zcta = pd.read_excel(r\"data\\Zip_to_zcta_crosswalk_2020.xlsx\")\n",
    "zip_zcta"
   ]
  },
  {
   "cell_type": "code",
   "execution_count": null,
   "id": "cfc60961",
   "metadata": {},
   "outputs": [],
   "source": [
    "zip_zcta.ZIP_TYPE.value_counts()"
   ]
  },
  {
   "cell_type": "code",
   "execution_count": null,
   "id": "7418ebdc",
   "metadata": {},
   "outputs": [],
   "source": [
    "zip_zcta.zip_join_type.value_counts()"
   ]
  },
  {
   "cell_type": "code",
   "execution_count": null,
   "id": "4f54d4c7",
   "metadata": {},
   "outputs": [],
   "source": [
    "len(zip_zcta.ZCTA.unique())"
   ]
  },
  {
   "cell_type": "code",
   "execution_count": null,
   "id": "504026bc",
   "metadata": {},
   "outputs": [],
   "source": [
    "zip_zcta.dtypes"
   ]
  },
  {
   "cell_type": "code",
   "execution_count": null,
   "id": "03bb02d0",
   "metadata": {},
   "outputs": [],
   "source": [
    "zip_zcta = zip_zcta[zip_zcta.ZCTA != 'No ZCTA']\n",
    "zip_zcta.ZCTA = zip_zcta.ZCTA.astype(np.int64)"
   ]
  },
  {
   "cell_type": "markdown",
   "id": "fd94037d",
   "metadata": {},
   "source": [
    "## Demographics Table"
   ]
  },
  {
   "cell_type": "code",
   "execution_count": null,
   "id": "d7998dd2",
   "metadata": {},
   "outputs": [],
   "source": [
    "demo_df = pd.read_csv(r'data\\acs_zcta5_2017_5yr.csv')\n",
    "demo_df.head()"
   ]
  },
  {
   "cell_type": "code",
   "execution_count": 7,
   "id": "bbbdfb42",
   "metadata": {},
   "outputs": [
    {
     "data": {
      "text/plain": [
       "fips          object\n",
       "total_pop    float64\n",
       "black_pop    float64\n",
       "dtype: object"
      ]
     },
     "execution_count": 7,
     "metadata": {},
     "output_type": "execute_result"
    }
   ],
   "source": [
    "demo_df.dtypes"
   ]
  },
  {
   "cell_type": "code",
   "execution_count": 8,
   "id": "4419d96c",
   "metadata": {},
   "outputs": [
    {
     "data": {
      "text/plain": [
       "fips         False\n",
       "total_pop    False\n",
       "black_pop    False\n",
       "dtype: bool"
      ]
     },
     "execution_count": 8,
     "metadata": {},
     "output_type": "execute_result"
    }
   ],
   "source": [
    "demo_df.isna().any()"
   ]
  },
  {
   "cell_type": "code",
   "execution_count": null,
   "id": "50476a64",
   "metadata": {},
   "outputs": [],
   "source": [
    "demo_df.black_pop = demo_df.black_pop.astype(np.int64)"
   ]
  },
  {
   "cell_type": "code",
   "execution_count": null,
   "id": "97509c8a",
   "metadata": {},
   "outputs": [],
   "source": [
    "demo_df.describe()"
   ]
  },
  {
   "cell_type": "markdown",
   "id": "2a374f17",
   "metadata": {},
   "source": [
    "## Join zip_zcta and demo_df"
   ]
  },
  {
   "cell_type": "code",
   "execution_count": null,
   "id": "b3fa3fb9",
   "metadata": {},
   "outputs": [],
   "source": [
    "demo_zip_df = demo_df.merge(zip_zcta, how='left', left_on='zcta5', \n",
    "                            right_on='ZCTA').drop(columns=['ZCTA'])\n",
    "\n",
    "demo_zip_df.head()"
   ]
  },
  {
   "cell_type": "code",
   "execution_count": null,
   "id": "7a83374d",
   "metadata": {},
   "outputs": [],
   "source": [
    "demo_zip_df.dtypes"
   ]
  },
  {
   "cell_type": "code",
   "execution_count": null,
   "id": "67a2e769",
   "metadata": {},
   "outputs": [],
   "source": [
    "demo_zip_df.isna().any()"
   ]
  },
  {
   "cell_type": "code",
   "execution_count": null,
   "id": "0a5939f1",
   "metadata": {},
   "outputs": [],
   "source": [
    "demo_zip_df.ZIP_CODE.isna().sum()"
   ]
  },
  {
   "cell_type": "code",
   "execution_count": null,
   "id": "f10ee87f",
   "metadata": {},
   "outputs": [],
   "source": [
    "demo_zip_df = demo_zip_df.dropna()\n",
    "demo_zip_df.ZIP_CODE = demo_zip_df.ZIP_CODE.astype(np.int64)"
   ]
  },
  {
   "cell_type": "code",
   "execution_count": null,
   "id": "3e58b064",
   "metadata": {},
   "outputs": [],
   "source": [
    "len(demo_zip_df.ZIP_CODE.unique())"
   ]
  },
  {
   "cell_type": "code",
   "execution_count": null,
   "id": "e4d0cc06",
   "metadata": {},
   "outputs": [],
   "source": [
    "len(demo_zip_df.zcta5.unique())"
   ]
  },
  {
   "cell_type": "markdown",
   "id": "8f277996",
   "metadata": {},
   "source": [
    "## Vaccine Hesitancy Table"
   ]
  },
  {
   "cell_type": "code",
   "execution_count": 18,
   "id": "a03d7e71",
   "metadata": {},
   "outputs": [
    {
     "data": {
      "text/html": [
       "<div>\n",
       "<style scoped>\n",
       "    .dataframe tbody tr th:only-of-type {\n",
       "        vertical-align: middle;\n",
       "    }\n",
       "\n",
       "    .dataframe tbody tr th {\n",
       "        vertical-align: top;\n",
       "    }\n",
       "\n",
       "    .dataframe thead th {\n",
       "        text-align: right;\n",
       "    }\n",
       "</style>\n",
       "<table border=\"1\" class=\"dataframe\">\n",
       "  <thead>\n",
       "    <tr style=\"text-align: right;\">\n",
       "      <th></th>\n",
       "      <th>week</th>\n",
       "      <th>start_date</th>\n",
       "      <th>end_date</th>\n",
       "      <th>zip_code</th>\n",
       "      <th>vaccine_measure_id</th>\n",
       "      <th>final_zip_pred</th>\n",
       "      <th>state_name</th>\n",
       "      <th>county_name</th>\n",
       "      <th>vaccine_measure_name</th>\n",
       "      <th>definition</th>\n",
       "    </tr>\n",
       "  </thead>\n",
       "  <tbody>\n",
       "    <tr>\n",
       "      <th>0</th>\n",
       "      <td>26</td>\n",
       "      <td>6/25/2021</td>\n",
       "      <td>7/1/2021</td>\n",
       "      <td>10001</td>\n",
       "      <td>1</td>\n",
       "      <td>0.043939</td>\n",
       "      <td>New York</td>\n",
       "      <td>New York County</td>\n",
       "      <td>high_vaccine_potential</td>\n",
       "      <td>yes probably will and no probably wont respond...</td>\n",
       "    </tr>\n",
       "    <tr>\n",
       "      <th>1</th>\n",
       "      <td>26</td>\n",
       "      <td>6/25/2021</td>\n",
       "      <td>7/1/2021</td>\n",
       "      <td>10002</td>\n",
       "      <td>1</td>\n",
       "      <td>0.062324</td>\n",
       "      <td>New York</td>\n",
       "      <td>New York County</td>\n",
       "      <td>high_vaccine_potential</td>\n",
       "      <td>yes probably will and no probably wont respond...</td>\n",
       "    </tr>\n",
       "    <tr>\n",
       "      <th>2</th>\n",
       "      <td>26</td>\n",
       "      <td>6/25/2021</td>\n",
       "      <td>7/1/2021</td>\n",
       "      <td>10003</td>\n",
       "      <td>1</td>\n",
       "      <td>0.024404</td>\n",
       "      <td>New York</td>\n",
       "      <td>New York County</td>\n",
       "      <td>high_vaccine_potential</td>\n",
       "      <td>yes probably will and no probably wont respond...</td>\n",
       "    </tr>\n",
       "    <tr>\n",
       "      <th>3</th>\n",
       "      <td>26</td>\n",
       "      <td>6/25/2021</td>\n",
       "      <td>7/1/2021</td>\n",
       "      <td>10004</td>\n",
       "      <td>1</td>\n",
       "      <td>0.036839</td>\n",
       "      <td>New York</td>\n",
       "      <td>New York County</td>\n",
       "      <td>high_vaccine_potential</td>\n",
       "      <td>yes probably will and no probably wont respond...</td>\n",
       "    </tr>\n",
       "    <tr>\n",
       "      <th>4</th>\n",
       "      <td>26</td>\n",
       "      <td>6/25/2021</td>\n",
       "      <td>7/1/2021</td>\n",
       "      <td>10005</td>\n",
       "      <td>1</td>\n",
       "      <td>0.036940</td>\n",
       "      <td>New York</td>\n",
       "      <td>New York County</td>\n",
       "      <td>high_vaccine_potential</td>\n",
       "      <td>yes probably will and no probably wont respond...</td>\n",
       "    </tr>\n",
       "  </tbody>\n",
       "</table>\n",
       "</div>"
      ],
      "text/plain": [
       "   week start_date  end_date  zip_code  vaccine_measure_id  final_zip_pred  \\\n",
       "0    26  6/25/2021  7/1/2021     10001                   1        0.043939   \n",
       "1    26  6/25/2021  7/1/2021     10002                   1        0.062324   \n",
       "2    26  6/25/2021  7/1/2021     10003                   1        0.024404   \n",
       "3    26  6/25/2021  7/1/2021     10004                   1        0.036839   \n",
       "4    26  6/25/2021  7/1/2021     10005                   1        0.036940   \n",
       "\n",
       "  state_name      county_name    vaccine_measure_name  \\\n",
       "0   New York  New York County  high_vaccine_potential   \n",
       "1   New York  New York County  high_vaccine_potential   \n",
       "2   New York  New York County  high_vaccine_potential   \n",
       "3   New York  New York County  high_vaccine_potential   \n",
       "4   New York  New York County  high_vaccine_potential   \n",
       "\n",
       "                                          definition  \n",
       "0  yes probably will and no probably wont respond...  \n",
       "1  yes probably will and no probably wont respond...  \n",
       "2  yes probably will and no probably wont respond...  \n",
       "3  yes probably will and no probably wont respond...  \n",
       "4  yes probably will and no probably wont respond...  "
      ]
     },
     "execution_count": 18,
     "metadata": {},
     "output_type": "execute_result"
    }
   ],
   "source": [
    "vax_df = pd.read_csv(r\"data\\vaccine_hesitancy_by_zip.csv\")\n",
    "vax_df.head()"
   ]
  },
  {
   "cell_type": "code",
   "execution_count": null,
   "id": "ebae8bad",
   "metadata": {},
   "outputs": [],
   "source": [
    "# clear out all_priority results -- can change this later\n",
    "vax_df = vax_df[vax_df.vaccine_measure_id != 2]"
   ]
  },
  {
   "cell_type": "code",
   "execution_count": 20,
   "id": "a66baaeb",
   "metadata": {},
   "outputs": [
    {
     "data": {
      "text/html": [
       "<div>\n",
       "<style scoped>\n",
       "    .dataframe tbody tr th:only-of-type {\n",
       "        vertical-align: middle;\n",
       "    }\n",
       "\n",
       "    .dataframe tbody tr th {\n",
       "        vertical-align: top;\n",
       "    }\n",
       "\n",
       "    .dataframe thead th {\n",
       "        text-align: right;\n",
       "    }\n",
       "</style>\n",
       "<table border=\"1\" class=\"dataframe\">\n",
       "  <thead>\n",
       "    <tr style=\"text-align: right;\">\n",
       "      <th></th>\n",
       "      <th>zip_code</th>\n",
       "      <th>final_zip_pred</th>\n",
       "      <th>state_name</th>\n",
       "      <th>county_name</th>\n",
       "    </tr>\n",
       "  </thead>\n",
       "  <tbody>\n",
       "    <tr>\n",
       "      <th>0</th>\n",
       "      <td>10001</td>\n",
       "      <td>0.043939</td>\n",
       "      <td>New York</td>\n",
       "      <td>New York County</td>\n",
       "    </tr>\n",
       "    <tr>\n",
       "      <th>1</th>\n",
       "      <td>10002</td>\n",
       "      <td>0.062324</td>\n",
       "      <td>New York</td>\n",
       "      <td>New York County</td>\n",
       "    </tr>\n",
       "    <tr>\n",
       "      <th>2</th>\n",
       "      <td>10003</td>\n",
       "      <td>0.024404</td>\n",
       "      <td>New York</td>\n",
       "      <td>New York County</td>\n",
       "    </tr>\n",
       "    <tr>\n",
       "      <th>3</th>\n",
       "      <td>10004</td>\n",
       "      <td>0.036839</td>\n",
       "      <td>New York</td>\n",
       "      <td>New York County</td>\n",
       "    </tr>\n",
       "    <tr>\n",
       "      <th>4</th>\n",
       "      <td>10005</td>\n",
       "      <td>0.036940</td>\n",
       "      <td>New York</td>\n",
       "      <td>New York County</td>\n",
       "    </tr>\n",
       "  </tbody>\n",
       "</table>\n",
       "</div>"
      ],
      "text/plain": [
       "   zip_code  final_zip_pred state_name      county_name\n",
       "0     10001        0.043939   New York  New York County\n",
       "1     10002        0.062324   New York  New York County\n",
       "2     10003        0.024404   New York  New York County\n",
       "3     10004        0.036839   New York  New York County\n",
       "4     10005        0.036940   New York  New York County"
      ]
     },
     "execution_count": 20,
     "metadata": {},
     "output_type": "execute_result"
    }
   ],
   "source": [
    "vax_df = vax_df.drop(columns=['week', 'start_date', 'end_date', 'vaccine_measure_id',\n",
    "                    'vaccine_measure_name', 'definition'])\n",
    "vax_df.head()"
   ]
  },
  {
   "cell_type": "code",
   "execution_count": 21,
   "id": "1e51977d",
   "metadata": {},
   "outputs": [
    {
     "data": {
      "text/plain": [
       "zip_code            int64\n",
       "final_zip_pred    float64\n",
       "state_name         object\n",
       "county_name        object\n",
       "dtype: object"
      ]
     },
     "execution_count": 21,
     "metadata": {},
     "output_type": "execute_result"
    }
   ],
   "source": [
    "vax_df.dtypes"
   ]
  },
  {
   "cell_type": "code",
   "execution_count": null,
   "id": "5df8a027",
   "metadata": {},
   "outputs": [],
   "source": [
    "vax_df.isna().any()"
   ]
  },
  {
   "cell_type": "code",
   "execution_count": null,
   "id": "2fdd465c",
   "metadata": {},
   "outputs": [],
   "source": [
    "len(vax_df.zip_code.unique())"
   ]
  },
  {
   "cell_type": "code",
   "execution_count": null,
   "id": "79d2db33",
   "metadata": {},
   "outputs": [],
   "source": [
    "vax_df.final_zip_pred.describe()"
   ]
  },
  {
   "cell_type": "markdown",
   "id": "143fe392",
   "metadata": {},
   "source": [
    "## Join the hesitancy and demographic tables"
   ]
  },
  {
   "cell_type": "code",
   "execution_count": 22,
   "id": "b74f5fb8",
   "metadata": {},
   "outputs": [
    {
     "data": {
      "text/html": [
       "<div>\n",
       "<style scoped>\n",
       "    .dataframe tbody tr th:only-of-type {\n",
       "        vertical-align: middle;\n",
       "    }\n",
       "\n",
       "    .dataframe tbody tr th {\n",
       "        vertical-align: top;\n",
       "    }\n",
       "\n",
       "    .dataframe thead th {\n",
       "        text-align: right;\n",
       "    }\n",
       "</style>\n",
       "<table border=\"1\" class=\"dataframe\">\n",
       "  <thead>\n",
       "    <tr style=\"text-align: right;\">\n",
       "      <th></th>\n",
       "      <th>fips</th>\n",
       "      <th>total_pop</th>\n",
       "      <th>black_pop</th>\n",
       "      <th>county</th>\n",
       "      <th>zip</th>\n",
       "    </tr>\n",
       "  </thead>\n",
       "  <tbody>\n",
       "    <tr>\n",
       "      <th>0</th>\n",
       "      <td>35039</td>\n",
       "      <td>39307.0</td>\n",
       "      <td>164.0</td>\n",
       "      <td>35039</td>\n",
       "      <td>87527</td>\n",
       "    </tr>\n",
       "    <tr>\n",
       "      <th>1</th>\n",
       "      <td>35039</td>\n",
       "      <td>39307.0</td>\n",
       "      <td>164.0</td>\n",
       "      <td>35039</td>\n",
       "      <td>87046</td>\n",
       "    </tr>\n",
       "    <tr>\n",
       "      <th>2</th>\n",
       "      <td>35039</td>\n",
       "      <td>39307.0</td>\n",
       "      <td>164.0</td>\n",
       "      <td>35039</td>\n",
       "      <td>87520</td>\n",
       "    </tr>\n",
       "    <tr>\n",
       "      <th>3</th>\n",
       "      <td>35039</td>\n",
       "      <td>39307.0</td>\n",
       "      <td>164.0</td>\n",
       "      <td>35039</td>\n",
       "      <td>87017</td>\n",
       "    </tr>\n",
       "    <tr>\n",
       "      <th>4</th>\n",
       "      <td>35039</td>\n",
       "      <td>39307.0</td>\n",
       "      <td>164.0</td>\n",
       "      <td>35039</td>\n",
       "      <td>87522</td>\n",
       "    </tr>\n",
       "  </tbody>\n",
       "</table>\n",
       "</div>"
      ],
      "text/plain": [
       "    fips  total_pop  black_pop  county    zip\n",
       "0  35039    39307.0      164.0   35039  87527\n",
       "1  35039    39307.0      164.0   35039  87046\n",
       "2  35039    39307.0      164.0   35039  87520\n",
       "3  35039    39307.0      164.0   35039  87017\n",
       "4  35039    39307.0      164.0   35039  87522"
      ]
     },
     "execution_count": 22,
     "metadata": {},
     "output_type": "execute_result"
    }
   ],
   "source": [
    "demo_df.head()"
   ]
  },
  {
   "cell_type": "code",
   "execution_count": 29,
   "id": "13963f07",
   "metadata": {},
   "outputs": [
    {
     "data": {
      "text/html": [
       "<div>\n",
       "<style scoped>\n",
       "    .dataframe tbody tr th:only-of-type {\n",
       "        vertical-align: middle;\n",
       "    }\n",
       "\n",
       "    .dataframe tbody tr th {\n",
       "        vertical-align: top;\n",
       "    }\n",
       "\n",
       "    .dataframe thead th {\n",
       "        text-align: right;\n",
       "    }\n",
       "</style>\n",
       "<table border=\"1\" class=\"dataframe\">\n",
       "  <thead>\n",
       "    <tr style=\"text-align: right;\">\n",
       "      <th></th>\n",
       "      <th>fips</th>\n",
       "      <th>total_pop</th>\n",
       "      <th>black_pop</th>\n",
       "      <th>county</th>\n",
       "      <th>zip</th>\n",
       "      <th>zip_code</th>\n",
       "      <th>final_zip_pred</th>\n",
       "      <th>state_name</th>\n",
       "      <th>county_name</th>\n",
       "    </tr>\n",
       "  </thead>\n",
       "  <tbody>\n",
       "    <tr>\n",
       "      <th>0</th>\n",
       "      <td>35039</td>\n",
       "      <td>39307.0</td>\n",
       "      <td>164.0</td>\n",
       "      <td>35039</td>\n",
       "      <td>87527</td>\n",
       "      <td>NaN</td>\n",
       "      <td>NaN</td>\n",
       "      <td>NaN</td>\n",
       "      <td>NaN</td>\n",
       "    </tr>\n",
       "    <tr>\n",
       "      <th>1</th>\n",
       "      <td>35039</td>\n",
       "      <td>39307.0</td>\n",
       "      <td>164.0</td>\n",
       "      <td>35039</td>\n",
       "      <td>87046</td>\n",
       "      <td>87046.0</td>\n",
       "      <td>0.037686</td>\n",
       "      <td>New Mexico</td>\n",
       "      <td>Rio Arriba County</td>\n",
       "    </tr>\n",
       "    <tr>\n",
       "      <th>2</th>\n",
       "      <td>35039</td>\n",
       "      <td>39307.0</td>\n",
       "      <td>164.0</td>\n",
       "      <td>35039</td>\n",
       "      <td>87046</td>\n",
       "      <td>87046.0</td>\n",
       "      <td>0.037686</td>\n",
       "      <td>New Mexico</td>\n",
       "      <td>Sandoval County</td>\n",
       "    </tr>\n",
       "    <tr>\n",
       "      <th>3</th>\n",
       "      <td>35039</td>\n",
       "      <td>39307.0</td>\n",
       "      <td>164.0</td>\n",
       "      <td>35039</td>\n",
       "      <td>87046</td>\n",
       "      <td>87046.0</td>\n",
       "      <td>0.088750</td>\n",
       "      <td>New Mexico</td>\n",
       "      <td>Rio Arriba County</td>\n",
       "    </tr>\n",
       "    <tr>\n",
       "      <th>4</th>\n",
       "      <td>35039</td>\n",
       "      <td>39307.0</td>\n",
       "      <td>164.0</td>\n",
       "      <td>35039</td>\n",
       "      <td>87046</td>\n",
       "      <td>87046.0</td>\n",
       "      <td>0.088750</td>\n",
       "      <td>New Mexico</td>\n",
       "      <td>Sandoval County</td>\n",
       "    </tr>\n",
       "  </tbody>\n",
       "</table>\n",
       "</div>"
      ],
      "text/plain": [
       "    fips  total_pop  black_pop  county    zip  zip_code  final_zip_pred  \\\n",
       "0  35039    39307.0      164.0   35039  87527       NaN             NaN   \n",
       "1  35039    39307.0      164.0   35039  87046   87046.0        0.037686   \n",
       "2  35039    39307.0      164.0   35039  87046   87046.0        0.037686   \n",
       "3  35039    39307.0      164.0   35039  87046   87046.0        0.088750   \n",
       "4  35039    39307.0      164.0   35039  87046   87046.0        0.088750   \n",
       "\n",
       "   state_name        county_name  \n",
       "0         NaN                NaN  \n",
       "1  New Mexico  Rio Arriba County  \n",
       "2  New Mexico    Sandoval County  \n",
       "3  New Mexico  Rio Arriba County  \n",
       "4  New Mexico    Sandoval County  "
      ]
     },
     "execution_count": 29,
     "metadata": {},
     "output_type": "execute_result"
    }
   ],
   "source": [
    "df = demo_df.merge(vax_df, how='left', left_on='zip', right_on='zip_code')\n",
    "df.head()"
   ]
  },
  {
   "cell_type": "code",
   "execution_count": 33,
   "id": "f47fc6d1",
   "metadata": {},
   "outputs": [
    {
     "data": {
      "text/plain": [
       "fips                int64\n",
       "total_pop         float64\n",
       "black_pop         float64\n",
       "county              int64\n",
       "zip                 int64\n",
       "zip_code          float64\n",
       "final_zip_pred    float64\n",
       "state_name         object\n",
       "county_name        object\n",
       "dtype: object"
      ]
     },
     "execution_count": 33,
     "metadata": {},
     "output_type": "execute_result"
    }
   ],
   "source": [
    "df.dtypes"
   ]
  },
  {
   "cell_type": "code",
   "execution_count": 30,
   "id": "3072ea59",
   "metadata": {},
   "outputs": [
    {
     "data": {
      "text/plain": [
       "fips              False\n",
       "total_pop         False\n",
       "black_pop         False\n",
       "county            False\n",
       "zip               False\n",
       "zip_code           True\n",
       "final_zip_pred     True\n",
       "state_name         True\n",
       "county_name        True\n",
       "dtype: bool"
      ]
     },
     "execution_count": 30,
     "metadata": {},
     "output_type": "execute_result"
    }
   ],
   "source": [
    "df.isna().any()"
   ]
  },
  {
   "cell_type": "code",
   "execution_count": 32,
   "id": "5f5d679c",
   "metadata": {},
   "outputs": [],
   "source": [
    "df = df.dropna()"
   ]
  },
  {
   "cell_type": "code",
   "execution_count": 39,
   "id": "ca96610c",
   "metadata": {},
   "outputs": [
    {
     "data": {
      "text/html": [
       "<div>\n",
       "<style scoped>\n",
       "    .dataframe tbody tr th:only-of-type {\n",
       "        vertical-align: middle;\n",
       "    }\n",
       "\n",
       "    .dataframe tbody tr th {\n",
       "        vertical-align: top;\n",
       "    }\n",
       "\n",
       "    .dataframe thead th {\n",
       "        text-align: right;\n",
       "    }\n",
       "</style>\n",
       "<table border=\"1\" class=\"dataframe\">\n",
       "  <thead>\n",
       "    <tr style=\"text-align: right;\">\n",
       "      <th></th>\n",
       "      <th>fips</th>\n",
       "      <th>total_pop</th>\n",
       "      <th>black_pop</th>\n",
       "      <th>zip</th>\n",
       "      <th>final_zip_pred</th>\n",
       "      <th>state_name</th>\n",
       "      <th>county_name</th>\n",
       "    </tr>\n",
       "  </thead>\n",
       "  <tbody>\n",
       "    <tr>\n",
       "      <th>1</th>\n",
       "      <td>35039</td>\n",
       "      <td>39307</td>\n",
       "      <td>164</td>\n",
       "      <td>87046</td>\n",
       "      <td>0.037686</td>\n",
       "      <td>New Mexico</td>\n",
       "      <td>Rio Arriba County</td>\n",
       "    </tr>\n",
       "    <tr>\n",
       "      <th>2</th>\n",
       "      <td>35039</td>\n",
       "      <td>39307</td>\n",
       "      <td>164</td>\n",
       "      <td>87046</td>\n",
       "      <td>0.037686</td>\n",
       "      <td>New Mexico</td>\n",
       "      <td>Sandoval County</td>\n",
       "    </tr>\n",
       "    <tr>\n",
       "      <th>3</th>\n",
       "      <td>35039</td>\n",
       "      <td>39307</td>\n",
       "      <td>164</td>\n",
       "      <td>87046</td>\n",
       "      <td>0.088750</td>\n",
       "      <td>New Mexico</td>\n",
       "      <td>Rio Arriba County</td>\n",
       "    </tr>\n",
       "    <tr>\n",
       "      <th>4</th>\n",
       "      <td>35039</td>\n",
       "      <td>39307</td>\n",
       "      <td>164</td>\n",
       "      <td>87046</td>\n",
       "      <td>0.088750</td>\n",
       "      <td>New Mexico</td>\n",
       "      <td>Sandoval County</td>\n",
       "    </tr>\n",
       "    <tr>\n",
       "      <th>7</th>\n",
       "      <td>35039</td>\n",
       "      <td>39307</td>\n",
       "      <td>164</td>\n",
       "      <td>87522</td>\n",
       "      <td>0.063541</td>\n",
       "      <td>New Mexico</td>\n",
       "      <td>Rio Arriba County</td>\n",
       "    </tr>\n",
       "  </tbody>\n",
       "</table>\n",
       "</div>"
      ],
      "text/plain": [
       "    fips  total_pop  black_pop    zip  final_zip_pred  state_name  \\\n",
       "1  35039      39307        164  87046        0.037686  New Mexico   \n",
       "2  35039      39307        164  87046        0.037686  New Mexico   \n",
       "3  35039      39307        164  87046        0.088750  New Mexico   \n",
       "4  35039      39307        164  87046        0.088750  New Mexico   \n",
       "7  35039      39307        164  87522        0.063541  New Mexico   \n",
       "\n",
       "         county_name  \n",
       "1  Rio Arriba County  \n",
       "2    Sandoval County  \n",
       "3  Rio Arriba County  \n",
       "4    Sandoval County  \n",
       "7  Rio Arriba County  "
      ]
     },
     "execution_count": 39,
     "metadata": {},
     "output_type": "execute_result"
    }
   ],
   "source": [
    "df.total_pop = df.total_pop.astype(np.int64)\n",
    "df.black_pop = df.black_pop.astype(np.int64)\n",
    "df = df.drop(columns=['county'])\n",
    "df.head()"
   ]
  },
  {
   "cell_type": "code",
   "execution_count": 38,
   "id": "57af4845",
   "metadata": {},
   "outputs": [
    {
     "data": {
      "text/plain": [
       "32858"
      ]
     },
     "execution_count": 38,
     "metadata": {},
     "output_type": "execute_result"
    }
   ],
   "source": [
    "len(df.zip.unique())"
   ]
  },
  {
   "cell_type": "code",
   "execution_count": 41,
   "id": "0b5af1ec",
   "metadata": {},
   "outputs": [],
   "source": [
    "df.to_csv(r'data\\demo_hesitancy_by_fips.csv', index=False)"
   ]
  },
  {
   "cell_type": "markdown",
   "id": "ba4c1afa",
   "metadata": {},
   "source": [
    "## Exploration and cleaning"
   ]
  },
  {
   "cell_type": "code",
   "execution_count": null,
   "id": "c88e65d9",
   "metadata": {},
   "outputs": [],
   "source": [
    "df.dtypes"
   ]
  },
  {
   "cell_type": "code",
   "execution_count": null,
   "id": "cf590240",
   "metadata": {},
   "outputs": [],
   "source": [
    "df.isna().any()"
   ]
  },
  {
   "cell_type": "code",
   "execution_count": null,
   "id": "7fbaafc5",
   "metadata": {},
   "outputs": [],
   "source": [
    "df.isna().black_pop.sum()"
   ]
  },
  {
   "cell_type": "code",
   "execution_count": null,
   "id": "ce12271d",
   "metadata": {},
   "outputs": [],
   "source": [
    "df_na = df[df.isna().any(axis=1)]\n",
    "df_na"
   ]
  },
  {
   "cell_type": "code",
   "execution_count": null,
   "id": "ca332bef",
   "metadata": {},
   "outputs": [],
   "source": [
    "# I checked other population data for these missing rows and they're all 0\n",
    "df = df.dropna()\n",
    "df.isna().black_pop.sum()"
   ]
  },
  {
   "cell_type": "code",
   "execution_count": null,
   "id": "35c8fe22",
   "metadata": {},
   "outputs": [],
   "source": [
    "# also drop rows that have 0 black population\n",
    "df = df[df.black_pop != 0]\n",
    "len(df)"
   ]
  },
  {
   "cell_type": "code",
   "execution_count": null,
   "id": "51d1a43a",
   "metadata": {},
   "outputs": [],
   "source": [
    "df[df.duplicated(subset=['zip_code'], \n",
    "                 keep=False) == True].sort_values(by='zip_code')"
   ]
  },
  {
   "cell_type": "code",
   "execution_count": null,
   "id": "3ef21f82",
   "metadata": {},
   "outputs": [],
   "source": [
    "# looks like duplicated zip codes keep the same final_zip_pred value\n",
    "# so duplicates are safe to delete\n",
    "df = df.drop_duplicates(subset=['zip_code'], keep='first')\n",
    "len(df)"
   ]
  },
  {
   "cell_type": "code",
   "execution_count": null,
   "id": "824b2cda",
   "metadata": {},
   "outputs": [],
   "source": [
    "df.black_pop.describe()"
   ]
  },
  {
   "cell_type": "code",
   "execution_count": null,
   "id": "d5abaa6f",
   "metadata": {},
   "outputs": [],
   "source": [
    "df.final_zip_pred.describe()"
   ]
  },
  {
   "cell_type": "code",
   "execution_count": null,
   "id": "8a4ba42e",
   "metadata": {},
   "outputs": [],
   "source": [
    "# should add up to <328,200,000\n",
    "df.total_pop.sum()"
   ]
  },
  {
   "cell_type": "code",
   "execution_count": null,
   "id": "cc68a62d",
   "metadata": {},
   "outputs": [],
   "source": [
    "# should be between 12-13% of actual population ( = 328.2 million)\n",
    "df.black_pop.sum()"
   ]
  },
  {
   "cell_type": "code",
   "execution_count": null,
   "id": "69bca753",
   "metadata": {},
   "outputs": [],
   "source": [
    "len(df.zip_code.unique())"
   ]
  },
  {
   "cell_type": "code",
   "execution_count": null,
   "id": "6b831dad",
   "metadata": {},
   "outputs": [],
   "source": [
    "df['percent_black'] = df.black_pop/df.total_pop"
   ]
  },
  {
   "cell_type": "code",
   "execution_count": null,
   "id": "fc4ee16e",
   "metadata": {},
   "outputs": [],
   "source": [
    "df.to_csv(r'data\\demo_hesitancy_by_zip.csv', index=False)"
   ]
  }
 ],
 "metadata": {
  "kernelspec": {
   "display_name": "Python 3",
   "language": "python",
   "name": "python3"
  },
  "language_info": {
   "codemirror_mode": {
    "name": "ipython",
    "version": 3
   },
   "file_extension": ".py",
   "mimetype": "text/x-python",
   "name": "python",
   "nbconvert_exporter": "python",
   "pygments_lexer": "ipython3",
   "version": "3.8.8"
  }
 },
 "nbformat": 4,
 "nbformat_minor": 5
}
