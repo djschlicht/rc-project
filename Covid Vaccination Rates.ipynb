{
 "cells": [
  {
   "cell_type": "code",
   "execution_count": 2,
   "id": "72b062a7",
   "metadata": {},
   "outputs": [],
   "source": [
    "#import packages\n",
    "import pandas as pd\n",
    "import numpy as np\n",
    "import warnings; warnings.simplefilter('ignore')\n",
    "from google.cloud import bigquery"
   ]
  },
  {
   "cell_type": "code",
   "execution_count": 3,
   "id": "b87d3a1a",
   "metadata": {},
   "outputs": [],
   "source": [
    "#connect to bigquery\n",
    "client = bigquery.Client()\n",
    "\n",
    "#run query and return dataframe\n",
    "def run_query(query):\n",
    "    query_job = client.query(query)\n",
    "    query_result = query_job.result()\n",
    "    return query_result.to_dataframe().fillna(np.nan)"
   ]
  },
  {
   "cell_type": "code",
   "execution_count": 4,
   "id": "b7649a8c",
   "metadata": {},
   "outputs": [
    {
     "data": {
      "text/html": [
       "<div>\n",
       "<style scoped>\n",
       "    .dataframe tbody tr th:only-of-type {\n",
       "        vertical-align: middle;\n",
       "    }\n",
       "\n",
       "    .dataframe tbody tr th {\n",
       "        vertical-align: top;\n",
       "    }\n",
       "\n",
       "    .dataframe thead th {\n",
       "        text-align: right;\n",
       "    }\n",
       "</style>\n",
       "<table border=\"1\" class=\"dataframe\">\n",
       "  <thead>\n",
       "    <tr style=\"text-align: right;\">\n",
       "      <th></th>\n",
       "      <th>member_adr_zip</th>\n",
       "      <th>num_vax</th>\n",
       "    </tr>\n",
       "  </thead>\n",
       "  <tbody>\n",
       "    <tr>\n",
       "      <th>0</th>\n",
       "      <td>337</td>\n",
       "      <td>11935</td>\n",
       "    </tr>\n",
       "    <tr>\n",
       "      <th>1</th>\n",
       "      <td>926</td>\n",
       "      <td>38645</td>\n",
       "    </tr>\n",
       "    <tr>\n",
       "      <th>2</th>\n",
       "      <td>774</td>\n",
       "      <td>20401</td>\n",
       "    </tr>\n",
       "    <tr>\n",
       "      <th>3</th>\n",
       "      <td>803</td>\n",
       "      <td>4303</td>\n",
       "    </tr>\n",
       "    <tr>\n",
       "      <th>4</th>\n",
       "      <td>765</td>\n",
       "      <td>6821</td>\n",
       "    </tr>\n",
       "  </tbody>\n",
       "</table>\n",
       "</div>"
      ],
      "text/plain": [
       "  member_adr_zip  num_vax\n",
       "0            337    11935\n",
       "1            926    38645\n",
       "2            774    20401\n",
       "3            803     4303\n",
       "4            765     6821"
      ]
     },
     "execution_count": 4,
     "metadata": {},
     "output_type": "execute_result"
    }
   ],
   "source": [
    "vax_query = '''SELECT member_adr_zip, COUNT(DISTINCT d.patient_key) as num_vax\n",
    "FROM `w2ohcdata.drg.submit_procedure` as d\n",
    "JOIN `w2ohcdata.drg.submit_patient` as p ON d.claim_number = p.claim_number\n",
    "WHERE procedure IN ('0001A', '0002A', '0011A', '0012A', '0021A', '0022A', '0031A', '0041A', '0042A', '91304', '90476', '96372', '91300', '91301', '91302', '91303')\n",
    "AND d.par_dt > '2020-11-01'\n",
    "GROUP BY member_adr_zip\n",
    "HAVING num_vax > 3'''\n",
    "\n",
    "vax_df = run_query(vax_query)\n",
    "vax_df.head()"
   ]
  },
  {
   "cell_type": "code",
   "execution_count": 6,
   "id": "ebbea83a",
   "metadata": {},
   "outputs": [
    {
     "data": {
      "text/html": [
       "<div>\n",
       "<style scoped>\n",
       "    .dataframe tbody tr th:only-of-type {\n",
       "        vertical-align: middle;\n",
       "    }\n",
       "\n",
       "    .dataframe tbody tr th {\n",
       "        vertical-align: top;\n",
       "    }\n",
       "\n",
       "    .dataframe thead th {\n",
       "        text-align: right;\n",
       "    }\n",
       "</style>\n",
       "<table border=\"1\" class=\"dataframe\">\n",
       "  <thead>\n",
       "    <tr style=\"text-align: right;\">\n",
       "      <th></th>\n",
       "      <th>zip</th>\n",
       "      <th>total_pop</th>\n",
       "    </tr>\n",
       "  </thead>\n",
       "  <tbody>\n",
       "    <tr>\n",
       "      <th>0</th>\n",
       "      <td>551</td>\n",
       "      <td>793815.0</td>\n",
       "    </tr>\n",
       "    <tr>\n",
       "      <th>1</th>\n",
       "      <td>611</td>\n",
       "      <td>230341.0</td>\n",
       "    </tr>\n",
       "    <tr>\n",
       "      <th>2</th>\n",
       "      <td>338</td>\n",
       "      <td>750337.0</td>\n",
       "    </tr>\n",
       "    <tr>\n",
       "      <th>3</th>\n",
       "      <td>320</td>\n",
       "      <td>641556.0</td>\n",
       "    </tr>\n",
       "    <tr>\n",
       "      <th>4</th>\n",
       "      <td>594</td>\n",
       "      <td>130169.0</td>\n",
       "    </tr>\n",
       "  </tbody>\n",
       "</table>\n",
       "</div>"
      ],
      "text/plain": [
       "   zip  total_pop\n",
       "0  551   793815.0\n",
       "1  611   230341.0\n",
       "2  338   750337.0\n",
       "3  320   641556.0\n",
       "4  594   130169.0"
      ]
     },
     "execution_count": 6,
     "metadata": {},
     "output_type": "execute_result"
    }
   ],
   "source": [
    "pop_query = '''SELECT SUBSTRING(geo_id, 1, 3) AS zip, SUM(total_pop) as total_pop \n",
    "FROM `bigquery-public-data.census_bureau_acs.zcta5_2017_5yr` \n",
    "GROUP BY zip\n",
    "'''\n",
    "\n",
    "pop_df = run_query(pop_query)\n",
    "pop_df.head()"
   ]
  },
  {
   "cell_type": "code",
   "execution_count": 12,
   "id": "9043ba9a",
   "metadata": {},
   "outputs": [
    {
     "data": {
      "text/html": [
       "<div>\n",
       "<style scoped>\n",
       "    .dataframe tbody tr th:only-of-type {\n",
       "        vertical-align: middle;\n",
       "    }\n",
       "\n",
       "    .dataframe tbody tr th {\n",
       "        vertical-align: top;\n",
       "    }\n",
       "\n",
       "    .dataframe thead th {\n",
       "        text-align: right;\n",
       "    }\n",
       "</style>\n",
       "<table border=\"1\" class=\"dataframe\">\n",
       "  <thead>\n",
       "    <tr style=\"text-align: right;\">\n",
       "      <th></th>\n",
       "      <th>num_vax</th>\n",
       "      <th>zip</th>\n",
       "      <th>total_pop</th>\n",
       "      <th>vax_rate</th>\n",
       "    </tr>\n",
       "  </thead>\n",
       "  <tbody>\n",
       "    <tr>\n",
       "      <th>0</th>\n",
       "      <td>11935</td>\n",
       "      <td>337</td>\n",
       "      <td>756504.0</td>\n",
       "      <td>1.58</td>\n",
       "    </tr>\n",
       "    <tr>\n",
       "      <th>1</th>\n",
       "      <td>38645</td>\n",
       "      <td>926</td>\n",
       "      <td>1363423.0</td>\n",
       "      <td>2.83</td>\n",
       "    </tr>\n",
       "    <tr>\n",
       "      <th>2</th>\n",
       "      <td>20401</td>\n",
       "      <td>774</td>\n",
       "      <td>1217894.0</td>\n",
       "      <td>1.68</td>\n",
       "    </tr>\n",
       "    <tr>\n",
       "      <th>3</th>\n",
       "      <td>4303</td>\n",
       "      <td>803</td>\n",
       "      <td>129969.0</td>\n",
       "      <td>3.31</td>\n",
       "    </tr>\n",
       "    <tr>\n",
       "      <th>4</th>\n",
       "      <td>6821</td>\n",
       "      <td>765</td>\n",
       "      <td>503579.0</td>\n",
       "      <td>1.35</td>\n",
       "    </tr>\n",
       "  </tbody>\n",
       "</table>\n",
       "</div>"
      ],
      "text/plain": [
       "   num_vax  zip  total_pop  vax_rate\n",
       "0    11935  337   756504.0      1.58\n",
       "1    38645  926  1363423.0      2.83\n",
       "2    20401  774  1217894.0      1.68\n",
       "3     4303  803   129969.0      3.31\n",
       "4     6821  765   503579.0      1.35"
      ]
     },
     "execution_count": 12,
     "metadata": {},
     "output_type": "execute_result"
    }
   ],
   "source": [
    "vax_rate_df = pd.merge(vax_df, pop_df, how='left', left_on='member_adr_zip', right_on='zip').drop(columns = ['member_adr_zip'])                                                                                       \n",
    "vax_rate_df['vax_rate'] = round(vax_rate_df['num_vax']/vax_rate_df['total_pop']*100,2)\n",
    "vax_rate_df.head()"
   ]
  },
  {
   "cell_type": "code",
   "execution_count": 13,
   "id": "3bfe3574",
   "metadata": {},
   "outputs": [
    {
     "data": {
      "text/plain": [
       "count    878.0000\n",
       "mean          inf\n",
       "std           NaN\n",
       "min        0.0400\n",
       "25%        1.4125\n",
       "50%        2.3850\n",
       "75%        3.7425\n",
       "max           inf\n",
       "Name: vax_rate, dtype: float64"
      ]
     },
     "execution_count": 13,
     "metadata": {},
     "output_type": "execute_result"
    }
   ],
   "source": [
    "vax_rate_df.vax_rate.describe()"
   ]
  },
  {
   "cell_type": "code",
   "execution_count": 14,
   "id": "b725e120",
   "metadata": {},
   "outputs": [
    {
     "data": {
      "text/html": [
       "<div>\n",
       "<style scoped>\n",
       "    .dataframe tbody tr th:only-of-type {\n",
       "        vertical-align: middle;\n",
       "    }\n",
       "\n",
       "    .dataframe tbody tr th {\n",
       "        vertical-align: top;\n",
       "    }\n",
       "\n",
       "    .dataframe thead th {\n",
       "        text-align: right;\n",
       "    }\n",
       "</style>\n",
       "<table border=\"1\" class=\"dataframe\">\n",
       "  <thead>\n",
       "    <tr style=\"text-align: right;\">\n",
       "      <th></th>\n",
       "      <th>num_vax</th>\n",
       "      <th>zip</th>\n",
       "      <th>total_pop</th>\n",
       "      <th>vax_rate</th>\n",
       "    </tr>\n",
       "  </thead>\n",
       "  <tbody>\n",
       "    <tr>\n",
       "      <th>317</th>\n",
       "      <td>274</td>\n",
       "      <td>753</td>\n",
       "      <td>0.0</td>\n",
       "      <td>inf</td>\n",
       "    </tr>\n",
       "    <tr>\n",
       "      <th>472</th>\n",
       "      <td>271</td>\n",
       "      <td>772</td>\n",
       "      <td>0.0</td>\n",
       "      <td>inf</td>\n",
       "    </tr>\n",
       "  </tbody>\n",
       "</table>\n",
       "</div>"
      ],
      "text/plain": [
       "     num_vax  zip  total_pop  vax_rate\n",
       "317      274  753        0.0       inf\n",
       "472      271  772        0.0       inf"
      ]
     },
     "execution_count": 14,
     "metadata": {},
     "output_type": "execute_result"
    }
   ],
   "source": [
    "vax_rate_df[vax_rate_df.total_pop < 2]"
   ]
  },
  {
   "cell_type": "code",
   "execution_count": null,
   "id": "bc514a3b",
   "metadata": {},
   "outputs": [],
   "source": []
  }
 ],
 "metadata": {
  "kernelspec": {
   "display_name": "Python 3",
   "language": "python",
   "name": "python3"
  },
  "language_info": {
   "codemirror_mode": {
    "name": "ipython",
    "version": 3
   },
   "file_extension": ".py",
   "mimetype": "text/x-python",
   "name": "python",
   "nbconvert_exporter": "python",
   "pygments_lexer": "ipython3",
   "version": "3.8.8"
  }
 },
 "nbformat": 4,
 "nbformat_minor": 5
}
